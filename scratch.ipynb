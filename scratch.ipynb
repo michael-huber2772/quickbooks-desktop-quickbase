{
 "metadata": {
  "language_info": {
   "codemirror_mode": {
    "name": "ipython",
    "version": 3
   },
   "file_extension": ".py",
   "mimetype": "text/x-python",
   "name": "python",
   "nbconvert_exporter": "python",
   "pygments_lexer": "ipython3",
   "version": "3.8.3-final"
  },
  "orig_nbformat": 2,
  "kernelspec": {
   "name": "python3",
   "display_name": "Python 3.8.3 64-bit",
   "metadata": {
    "interpreter": {
     "hash": "2db524e06e9f5f4ffedc911c917cb75e12dbc923643829bf417064a77eb14d37"
    }
   }
  }
 },
 "nbformat": 4,
 "nbformat_minor": 2,
 "cells": [
  {
   "cell_type": "code",
   "execution_count": 11,
   "metadata": {},
   "outputs": [],
   "source": [
    "import pyodbc\n",
    "from pandas import read_sql\n"
   ]
  },
  {
   "cell_type": "code",
   "execution_count": null,
   "metadata": {},
   "outputs": [],
   "source": [
    "cn = pyodbc.connect('DSN=QuickBooks Data 64-Bit QRemote;')\n",
    "\n",
    "cursor = cn.cursor()"
   ]
  },
  {
   "cell_type": "code",
   "execution_count": 13,
   "metadata": {},
   "outputs": [
    {
     "output_type": "stream",
     "name": "stdout",
     "text": [
      "               TxnID         TimeCreated        TimeModified EditSequence  \\\n0    2453-1071526256 2003-12-15 15:10:56 2024-12-15 05:57:48   1734267335   \n1    469E-1071530054 2003-12-15 16:14:14 2024-12-15 05:57:46   1734267424   \n2      D7E-933784197 1999-08-04 10:29:57 2024-12-15 05:58:05   1734267321   \n3    26BB-1071526385 2003-12-15 15:13:05 2024-12-15 05:57:47   1734267342   \n4      F57-933788188 1999-08-04 11:36:28 2024-12-15 05:57:46   1734267325   \n..               ...                 ...                 ...          ...   \n117    5AA-933356715 1999-07-30 11:45:15 2024-12-15 05:55:10   1734267310   \n118    7CE-933364306 1999-07-30 13:51:46 2024-12-15 05:55:11   1734267311   \n119    CE8-933782165 1999-08-04 09:56:05 2024-12-15 05:55:21   1734267321   \n120  36F4-1071511667 2003-12-15 11:07:47 2024-12-15 05:56:17   1734267377   \n121    96C-933372931 1999-07-30 16:15:31 2024-12-15 05:55:15   1734267315   \n\n     TxnNumber    CustomerRefListID                   CustomerRefFullName  \\\n0          417  800000B8-1197707458         Prentice, Adelaide:Bay Window   \n1         1067  800000B7-1197706241       Melton, Johnny:Basement Remodel   \n2          251     280000-933272658     Pretell Real Estate:75 Sunset Rd.   \n3          460    600000-1071508427      Smallson, Fran:Office remodeling   \n4          295  800000B6-1197702033        Ecker Designs:Office Expansion   \n..         ...                  ...                                   ...   \n117        129     1E0000-933272658          Ecker Designs:Office Repairs   \n118        143     160000-933272658       Abercrombie, Kristy:Family Room   \n119        242     1E0000-933272658          Ecker Designs:Office Repairs   \n120        625    6C0000-1071526075              Keenan, Bridget:Sun Room   \n121        185     180000-933272658  Abercrombie, Kristy:Remodel Bathroom   \n\n      ClassRefListID  ClassRefFullName ARAccountRefListID  ...  \\\n0    10000-933272658  New Construction    40000-933270541  ...   \n1    40000-933272658           Remodel    40000-933270541  ...   \n2    10000-933272658  New Construction    40000-933270541  ...   \n3    10000-933272658  New Construction    40000-933270541  ...   \n4    10000-933272658  New Construction    40000-933270541  ...   \n..               ...               ...                ...  ...   \n117  40000-933272658           Remodel               None  ...   \n118  40000-933272658           Remodel               None  ...   \n119  40000-933272658           Remodel               None  ...   \n120  10000-933272658  New Construction               None  ...   \n121  40000-933272658           Remodel    40000-933270541  ...   \n\n    DepositToAccountRefListID DepositToAccountRefFullName  \\\n0                        None                        None   \n1                        None                        None   \n2                        None                        None   \n3                        None                        None   \n4                        None                        None   \n..                        ...                         ...   \n117           20000-933270541                    Checking   \n118           20000-933270541                    Checking   \n119           20000-933270541                    Checking   \n120           20000-933270541                    Checking   \n121                      None                        None   \n\n    CreditMemoLineGroupIsPrintItemsInGroup          Type Tax1Total Tax2Total  \\\n0                                     None       Invoice      None      None   \n1                                     None       Invoice      None      None   \n2                                     None       Invoice      None      None   \n3                                     None       Invoice      None      None   \n4                                     None       Invoice      None      None   \n..                                     ...           ...       ...       ...   \n117                                   None  SalesReceipt      None      None   \n118                                   None  SalesReceipt      None      None   \n119                                   None  SalesReceipt      None      None   \n120                                   None  SalesReceipt      None      None   \n121                                   None    CreditMemo      None      None   \n\n    AmountIncludesVAT CustomFieldBDay CustomFieldContract  \\\n0                None            None                None   \n1                None          7/7/57                None   \n2                None            None        0297-02-PRET   \n3                None            None                None   \n4                None           10/25                None   \n..                ...             ...                 ...   \n117              None            None        1297-03-ECKE   \n118              None            None                None   \n119              None            None        1297-03-ECKE   \n120              None            None                None   \n121              None            None                None   \n\n    CustomFieldSpousesName  \n0                     None  \n1                    Susan  \n2                     None  \n3                     None  \n4                      Joe  \n..                     ...  \n117                   None  \n118                   None  \n119                   None  \n120                   None  \n121                   None  \n\n[122 rows x 100 columns]\n"
     ]
    }
   ],
   "source": [
    "sql = \"SELECT * FROM Sales\"\n",
    "data = read_sql(sql, cn)\n",
    "print(data)"
   ]
  },
  {
   "cell_type": "code",
   "execution_count": 3,
   "metadata": {},
   "outputs": [
    {
     "output_type": "stream",
     "name": "stdout",
     "text": [
      "('Abercrombie, Kristy', )\n('Family Room', )\n('Kitchen', )\n('Remodel Bathroom', )\n('Allard, Robert', )\n('Remodel', )\n(\"Babcock's Music Shop\", )\n('Remodel', )\n('Baker, Chris', )\n('Family Room', )\n"
     ]
    }
   ],
   "source": [
    "cursor.execute(\"SELECT Top 10 Name FROM Customer\")\n",
    "\n",
    "for row in cursor.fetchall():\n",
    "    print (row)"
   ]
  },
  {
   "cell_type": "code",
   "execution_count": 5,
   "metadata": {
    "tags": [
     "outputPrepend"
    ]
   },
   "outputs": [
    {
     "output_type": "stream",
     "name": "stdout",
     "text": [
      "658', 'Net 15', None, None, None, None, None, None, None, False, None, None, Decimal('750'), None, None, None, None, None, None, None)\n('D78-933784069', datetime.datetime(1999, 8, 4, 10, 27, 49), datetime.datetime(2024, 12, 15, 5, 55, 21), '1734267321', 249, '30000-933272656', 'C.U. Electric', 'C. U. Electric', 'P.O. Box 2816', None, None, 'Bayshore', 'CA', '94326', 'C0000-933270541', 'Accounts Payable', datetime.date(2025, 11, 30), 'All', datetime.date(2026, 12, 30), Decimal('500'), None, None, None, None, None, '10000-933272658', 'Net 30', None, None, None, None, None, None, None, False, None, None, Decimal('750'), None, None, None, None, None, None, None)\n('D75-933784012', datetime.datetime(1999, 8, 4, 10, 26, 52), datetime.datetime(2024, 12, 15, 5, 56, 16), '1734267321', 248, '330000-933272659', 'Fay, Maureen Lynn, CPA', 'Maureen Lynn Fay, CPA', '200 Royal Rd', None, None, 'Bayshore', 'CA', '94326', 'C0000-933270541', 'Accounts Payable', datetime.date(2025, 12, 1), 'All', datetime.date(2026, 12, 31), Decimal('250'), None, None, None, None, None, '10000-933272658', 'Net 30', None, None, None, None, None, None, None, False, None, None, Decimal('0'), None, None, None, None, None, None, None)\n('2432-1071510295', datetime.datetime(2003, 12, 15, 10, 44, 55), datetime.datetime(2024, 12, 15, 5, 55, 35), '1734267335', 413, 'E0000-933272656', 'Timberloft Lumber', 'Timberloft Lumber', '456 Old Bayshore Rd', None, None, 'Bayshore', 'CA', '94326', 'C0000-933270541', 'Accounts Payable', datetime.date(2025, 12, 1), 'All', datetime.date(2026, 12, 31), Decimal('80.5'), None, None, None, None, None, '50000-933272659', '1% 10 Net 30', None, None, None, None, None, None, None, False, None, None, Decimal('215.1'), None, None, None, None, None, None, None)\n('3FD9-1071507463', datetime.datetime(2003, 12, 15, 9, 57, 43), datetime.datetime(2024, 12, 15, 5, 56, 47), '1734267406', 866, '7C0000-1071526124', 'East Bayshore Tool & Supply', 'East Bayshore Tool & Supply', '5111 N. Grand Ave', None, None, 'E. Bayshore', 'CA', '92781', 'C0000-933270541', 'Accounts Payable', datetime.date(2025, 12, 1), 'All', datetime.date(2026, 12, 31), Decimal('740.29'), None, None, None, None, None, '10000-933272658', 'Net 30', None, None, None, None, None, None, None, False, None, None, Decimal('0'), None, None, None, None, None, None, None)\n('4008-1071508977', datetime.datetime(2003, 12, 15, 10, 22, 57), datetime.datetime(2024, 12, 15, 5, 56, 48), '1734267407', 874, 'E0000-933272656', 'Timberloft Lumber', 'Timberloft Lumber', '456 Old Bayshore Rd', None, None, 'Bayshore', 'CA', '94326', 'C0000-933270541', 'Accounts Payable', datetime.date(2025, 12, 1), 'All', datetime.date(2026, 12, 31), Decimal('805'), None, None, None, None, None, '50000-933272659', '1% 10 Net 30', None, None, None, None, None, None, None, False, None, None, Decimal('215.1'), None, None, None, None, None, None, None)\n('400C-1071509038', datetime.datetime(2003, 12, 15, 10, 23, 58), datetime.datetime(2024, 12, 15, 5, 56, 48), '1734267407', 875, 'E0000-933272656', 'Timberloft Lumber', 'Timberloft Lumber', '456 Old Bayshore Rd', None, None, 'Bayshore', 'CA', '94326', 'C0000-933270541', 'Accounts Payable', datetime.date(2025, 12, 1), 'All', datetime.date(2026, 12, 31), Decimal('553'), None, None, None, None, None, '50000-933272659', '1% 10 Net 30', None, None, None, None, None, None, None, False, None, None, Decimal('215.1'), None, None, None, None, None, None, None)\n('4082-1071510687', datetime.datetime(2003, 12, 15, 10, 51, 27), datetime.datetime(2024, 12, 15, 5, 56, 49), '1734267409', 880, '7C0000-1071526124', 'East Bayshore Tool & Supply', 'East Bayshore Tool & Supply', '5111 N. Grand Ave', None, None, 'E. Bayshore', 'CA', '92781', 'C0000-933270541', 'Accounts Payable', datetime.date(2025, 12, 1), 'All', datetime.date(2026, 12, 31), Decimal('1476.23'), None, None, None, None, None, '10000-933272658', 'Net 30', None, None, None, None, None, None, None, False, None, None, Decimal('0'), None, None, None, None, None, None, None)\n('40B7-1071514063', datetime.datetime(2003, 12, 15, 11, 47, 43), datetime.datetime(2024, 12, 15, 5, 56, 52), '1734267409', 888, 'E0000-933272656', 'Timberloft Lumber', 'Timberloft Lumber', '456 Old Bayshore Rd', None, None, 'Bayshore', 'CA', '94326', 'C0000-933270541', 'Accounts Payable', datetime.date(2025, 12, 1), 'All', datetime.date(2026, 12, 31), Decimal('896'), None, None, None, None, None, '50000-933272659', '1% 10 Net 30', None, None, None, None, None, None, None, False, None, None, Decimal('215.1'), None, None, None, None, None, None, None)\n('40BE-1071514171', datetime.datetime(2003, 12, 15, 11, 49, 31), datetime.datetime(2024, 12, 15, 5, 56, 52), '1734267409', 890, '7C0000-1071526124', 'East Bayshore Tool & Supply', 'East Bayshore Tool & Supply', '5111 N. Grand Ave', None, None, 'E. Bayshore', 'CA', '92781', 'C0000-933270541', 'Accounts Payable', datetime.date(2025, 12, 1), 'All', datetime.date(2026, 12, 31), Decimal('696.52'), None, None, None, None, None, '10000-933272658', 'Net 30', None, None, None, None, None, None, None, False, None, None, Decimal('0'), None, None, None, None, None, None, None)\n('40C1-1071514252', datetime.datetime(2003, 12, 15, 11, 50, 52), datetime.datetime(2024, 12, 15, 5, 56, 52), '1734267410', 891, 'B0000-933272656', 'Patton Hardware Supplies', 'Patton Hardware Supplies', '4872 County Rd', None, None, 'Bayshore', 'CA', '94326', 'C0000-933270541', 'Accounts Payable', datetime.date(2025, 12, 1), 'All', datetime.date(2026, 12, 31), Decimal('400'), None, None, None, None, None, '10000-933272658', 'Net 30', None, None, None, None, None, None, None, False, None, None, Decimal('4479.2'), None, None, None, None, None, None, None)\n('40C4-1071514387', datetime.datetime(2003, 12, 15, 11, 53, 7), datetime.datetime(2024, 12, 15, 5, 56, 51), '1734267410', 892, 'F0000-933272656', 'Hopkins Construction Rentals', 'Hopkins Construction Rentals', '33 Old Bayshore Rd', None, None, 'Bayshore', 'CA', '94326', 'C0000-933270541', 'Accounts Payable', datetime.date(2025, 12, 1), 'All', datetime.date(2026, 12, 16), Decimal('450'), None, None, None, None, None, '20000-933272658', 'Net 15', None, None, None, None, None, None, None, False, None, None, Decimal('700'), None, None, None, None, None, None, None)\n('40C7-1071514478', datetime.datetime(2003, 12, 15, 11, 54, 38), datetime.datetime(2024, 12, 15, 5, 56, 52), '1734267410', 893, 'E0000-933272656', 'Timberloft Lumber', 'Timberloft Lumber', '456 Old Bayshore Rd', None, None, 'Bayshore', 'CA', '94326', 'C0000-933270541', 'Accounts Payable', datetime.date(2025, 12, 1), 'All', datetime.date(2026, 12, 31), Decimal('1610'), None, None, None, None, None, '50000-933272659', '1% 10 Net 30', None, None, None, None, None, None, None, False, None, None, Decimal('215.1'), None, None, None, None, None, None, None)\n('863D-1197708527', datetime.datetime(2007, 12, 15, 1, 48, 47), datetime.datetime(2024, 12, 15, 5, 57, 54), '1734267474', 1415, 'B0000-933272656', 'Patton Hardware Supplies', 'Patton Hardware Supplies', '4872 County Rd', None, None, 'Bayshore', 'CA', '94326', 'C0000-933270541', 'Accounts Payable', datetime.date(2025, 12, 1), 'All', datetime.date(2026, 12, 31), Decimal('210'), None, None, None, None, None, '10000-933272658', 'Net 30', None, None, None, None, None, None, None, False, None, None, Decimal('4479.2'), None, None, None, None, None, None, None)\n('243A-1071510389', datetime.datetime(2003, 12, 15, 10, 46, 29), datetime.datetime(2024, 12, 15, 5, 55, 35), '1734267335', 414, 'C0000-933272656', 'Perry Windows & Doors', 'Perry Windows & Doors', 'P.O. Box 5033', None, None, 'Bayshore', 'CA', '94326', 'C0000-933270541', 'Accounts Payable', datetime.date(2025, 12, 2), 'All', datetime.date(2027, 1, 1), Decimal('50'), None, None, None, None, None, '10000-933272658', 'Net 30', None, None, None, None, None, None, None, False, None, None, Decimal('6705'), None, None, None, None, None, None, None)\n('84B1-1197704963', datetime.datetime(2007, 12, 15, 0, 49, 23), datetime.datetime(2024, 12, 15, 5, 57, 54), '1734267474', 1402, '640000-1071525538', 'Daigle Lighting', 'PO Box 5903', None, None, None, 'Middlefield', 'CA', '94482', 'C0000-933270541', 'Accounts Payable', datetime.date(2025, 12, 2), 'All', datetime.date(2027, 1, 1), Decimal('52'), None, None, None, None, None, '10000-933272658', 'Net 30', None, None, None, None, None, None, None, False, None, None, Decimal('1591'), None, None, None, None, None, None, None)\n('390C-1071521152', datetime.datetime(2003, 12, 15, 13, 45, 52), datetime.datetime(2024, 12, 15, 5, 56, 31), '1734267382', 702, '720000-1071512482', 'East Bayshore Auto Mall', 'Bayshore Auto Mall', None, None, None, None, None, None, 'C0000-933270541', 'Accounts Payable', datetime.date(2025, 12, 3), 'All', datetime.date(2026, 12, 18), Decimal('532.97'), None, None, None, None, '038', '20000-933272658', 'Net 15', 'Monthly Truck Payment', None, None, None, None, None, None, False, None, None, Decimal('0'), None, None, None, None, None, None, None)\n('368C-1071520730', datetime.datetime(2003, 12, 15, 13, 38, 50), datetime.datetime(2024, 12, 15, 5, 56, 14), '1734267374', 612, 'C0000-933272656', 'Perry Windows & Doors', 'Perry Windows & Doors', 'P.O. Box 5033', None, None, 'Bayshore', 'CA', '94326', 'C0000-933270541', 'Accounts Payable', datetime.date(2025, 12, 4), 'All', datetime.date(2027, 1, 3), Decimal('2400'), None, None, None, None, None, '10000-933272658', 'Net 30', None, None, None, None, None, None, None, False, None, None, Decimal('6705'), None, None, None, None, None, None, None)\n('DF7-933785097', datetime.datetime(1999, 8, 4, 10, 44, 57), datetime.datetime(2024, 12, 15, 5, 55, 22), '1734267322', 260, 'F0000-933272656', 'Hopkins Construction Rentals', 'Hopkins Construction Rentals', '33 Old Bayshore Rd', None, None, 'Bayshore', 'CA', '94326', 'C0000-933270541', 'Accounts Payable', datetime.date(2025, 12, 5), 'All', datetime.date(2026, 12, 20), Decimal('550'), None, None, None, None, None, '20000-933272658', 'Net 15', None, None, None, None, None, None, None, False, None, None, Decimal('700'), None, None, None, None, None, None, None)\n('84C5-1197705405', datetime.datetime(2007, 12, 15, 0, 56, 45), datetime.datetime(2024, 12, 15, 5, 57, 54), '1734267474', 1405, 'E0000-933272656', 'Timberloft Lumber', 'Timberloft Lumber', '456 Old Bayshore Rd', None, None, 'Bayshore', 'CA', '94326', 'C0000-933270541', 'Accounts Payable', datetime.date(2025, 12, 6), 'All', datetime.date(2027, 1, 5), Decimal('115'), None, None, None, None, None, '50000-933272659', '1% 10 Net 30', None, None, None, None, None, None, None, False, None, None, Decimal('215.1'), None, None, None, None, None, None, None)\n('2593-1071524481', datetime.datetime(2003, 12, 15, 14, 41, 21), datetime.datetime(2024, 12, 15, 5, 55, 39), '1734267339', 445, 'F0000-933272656', 'Hopkins Construction Rentals', 'Hopkins Construction Rentals', '33 Old Bayshore Rd', None, None, 'Bayshore', 'CA', '94326', 'C0000-933270541', 'Accounts Payable', datetime.date(2025, 12, 8), 'All', datetime.date(2026, 12, 23), Decimal('150'), None, None, None, None, None, '20000-933272658', 'Net 15', None, None, None, None, None, None, None, False, None, None, Decimal('700'), None, None, None, None, None, None, None)\n('8C22-1197736279', datetime.datetime(2007, 12, 15, 9, 31, 19), datetime.datetime(2024, 12, 15, 5, 57, 59), '1734267479', 1432, 'E0000-933272656', 'Timberloft Lumber', 'Timberloft Lumber', '456 Old Bayshore Rd', None, None, 'Bayshore', 'CA', '94326', 'C0000-933270541', 'Accounts Payable', datetime.date(2025, 12, 10), 'All', datetime.date(2027, 1, 9), Decimal('475'), None, None, None, None, None, '10000-933272658', 'Net 30', None, None, None, None, None, None, None, False, None, None, Decimal('215.1'), None, None, None, None, None, None, None)\n('F16-933787303', datetime.datetime(1999, 8, 4, 11, 21, 43), datetime.datetime(2024, 12, 15, 5, 55, 24), '1734267324', 284, '70000-933272656', 'Lew Plumbing', 'Lew Plumbing', '221 Old Bayshore Rd', None, None, 'Bayshore', 'CA', '94326', 'C0000-933270541', 'Accounts Payable', datetime.date(2025, 12, 11), 'All', datetime.date(2026, 12, 26), Decimal('1200'), None, None, None, None, None, '20000-933272658', 'Net 15', None, None, None, None, None, None, None, False, None, None, Decimal('1330'), None, None, None, None, None, None, None)\n('258C-1071523824', datetime.datetime(2003, 12, 15, 14, 30, 24), datetime.datetime(2024, 12, 15, 5, 55, 39), '1734267339', 443, 'C0000-933272656', 'Perry Windows & Doors', 'Perry Windows & Doors', 'P.O. Box 5033', None, None, 'Bayshore', 'CA', '94326', 'C0000-933270541', 'Accounts Payable', datetime.date(2025, 12, 11), 'All', datetime.date(2027, 1, 10), Decimal('130'), None, None, None, None, None, '10000-933272658', 'Net 30', None, None, None, None, None, None, None, False, None, None, Decimal('6705'), None, None, None, None, None, None, None)\n('2599-1071525446', datetime.datetime(2003, 12, 15, 14, 57, 26), datetime.datetime(2024, 12, 15, 5, 56, 32), '1734267339', 447, '320000-933272659', 'Express Delivery Service', 'Express Delivery Service', '5600 E. Broadway', None, None, 'Bayshore', 'CA', '94326', 'C0000-933270541', 'Accounts Payable', datetime.date(2025, 12, 11), 'All', datetime.date(2026, 12, 21), Decimal('70'), None, None, None, None, None, None, None, None, None, None, None, None, None, None, False, None, None, Decimal('0'), None, None, None, None, None, None, None)\n('26A8-1071524519', datetime.datetime(2003, 12, 15, 14, 41, 59), datetime.datetime(2024, 12, 15, 5, 55, 42), '1734267342', 456, '640000-1071525538', 'Daigle Lighting', 'PO Box 5903', None, None, None, 'Middlefield', 'CA', '94482', 'C0000-933270541', 'Accounts Payable', datetime.date(2025, 12, 11), 'All', datetime.date(2026, 12, 21), Decimal('640.92'), None, None, None, None, None, None, None, None, None, None, None, None, None, None, False, None, None, Decimal('1591'), None, None, None, None, None, None, None)\n('26C2-1071499617', datetime.datetime(2003, 12, 15, 7, 46, 57), datetime.datetime(2024, 12, 15, 5, 55, 42), '1734267342', 461, '50000-933272656', 'Hamlin Metal', 'Hamlin Metal', '270 Old Bayshore Rd', None, None, 'Bayshore', 'CA', '94326', 'C0000-933270541', 'Accounts Payable', datetime.date(2025, 12, 11), 'All', datetime.date(2027, 1, 10), Decimal('670'), None, None, None, None, None, '10000-933272658', 'Net 30', None, None, None, None, None, None, None, False, None, None, Decimal('670'), None, None, None, None, None, None, None)\n('F31-933787658', datetime.datetime(1999, 8, 4, 11, 27, 38), datetime.datetime(2024, 12, 15, 5, 55, 25), '1734267325', 289, '60000-933272656', 'Washuta & Son Painting', 'Washuta & Son Painting', 'P.O. Box 783', None, None, 'Bayshore', 'CA', '94326', 'C0000-933270541', 'Accounts Payable', datetime.date(2025, 12, 12), 'All', datetime.date(2027, 1, 11), Decimal('600'), None, None, None, None, None, '10000-933272658', 'Net 30', None, None, None, None, None, None, None, False, None, None, Decimal('600'), None, None, None, None, None, None, None)\n('F34-933787718', datetime.datetime(1999, 8, 4, 11, 28, 38), datetime.datetime(2024, 12, 15, 5, 55, 25), '1734267325', 290, 'B0000-933272656', 'Patton Hardware Supplies', 'Patton Hardware Supplies', '4872 County Rd', None, None, 'Bayshore', 'CA', '94326', 'C0000-933270541', 'Accounts Payable', datetime.date(2025, 12, 12), 'All', datetime.date(2027, 1, 11), Decimal('810'), None, None, None, None, None, '10000-933272658', 'Net 30', None, None, None, None, None, None, None, False, None, None, Decimal('4479.2'), None, None, None, None, None, None, None)\n('2596-1071525246', datetime.datetime(2003, 12, 15, 14, 54, 6), datetime.datetime(2024, 12, 15, 5, 55, 39), '1734267339', 446, '30000-933272656', 'C.U. Electric', 'C. U. Electric', 'P.O. Box 2816', None, None, 'Bayshore', 'CA', '94326', 'C0000-933270541', 'Accounts Payable', datetime.date(2025, 12, 12), 'All', datetime.date(2027, 1, 11), Decimal('250'), None, None, None, None, None, '10000-933272658', 'Net 30', None, None, None, None, None, None, None, False, None, None, Decimal('750'), None, None, None, None, None, None, None)\n('25A9-1071507354', datetime.datetime(2003, 12, 15, 9, 55, 54), datetime.datetime(2024, 12, 15, 5, 55, 39), '1734267339', 449, '80000-933272656', 'Sloan Roofing', 'Sloan Roofing', 'P.O. Box 2431', None, None, 'Bayshore', 'CA', '94326', 'C0000-933270541', 'Accounts Payable', datetime.date(2025, 12, 12), 'All', datetime.date(2027, 1, 11), Decimal('1047'), None, None, None, None, None, '10000-933272658', 'Net 30', None, None, None, None, None, None, None, False, None, None, Decimal('1047'), None, None, None, None, None, None, None)\n('36D7-1071523993', datetime.datetime(2003, 12, 15, 14, 33, 13), datetime.datetime(2024, 12, 15, 5, 56, 17), '1734267376', 621, '70000-933272656', 'Lew Plumbing', 'Lew Plumbing', '221 Old Bayshore Rd', None, None, 'Bayshore', 'CA', '94326', 'C0000-933270541', 'Accounts Payable', datetime.date(2025, 12, 12), 'All', datetime.date(2026, 12, 27), Decimal('175'), None, None, None, None, '20001', '20000-933272658', 'Net 15', 'See Customer Invoice #1093', None, None, None, None, None, None, False, None, None, Decimal('1330'), None, None, None, None, None, None, None)\n('2586-1071523652', datetime.datetime(2003, 12, 15, 14, 27, 32), datetime.datetime(2024, 12, 15, 5, 55, 38), '1734267338', 441, '40000-933272656', 'Keswick Insulation', 'Keswick Insulation', 'P.O. Box 620', None, None, 'Middlefield', 'CA', '94482', 'C0000-933270541', 'Accounts Payable', datetime.date(2025, 12, 15), 'All', datetime.date(2026, 12, 30), Decimal('670'), None, None, None, None, None, '20000-933272658', 'Net 15', None, None, None, None, None, None, None, False, None, None, Decimal('0'), None, None, None, None, None, None, None)\n('373F-1071505419', datetime.datetime(2003, 12, 15, 9, 23, 39), datetime.datetime(2024, 12, 15, 5, 56, 17), '1734267377', 628, '2D0000-933272659', 'Cal Gas & Electric', 'Cal Gas & Electric', 'P.O. Box 5037', None, None, 'Middlefield', 'CA', '94482', 'C0000-933270541', 'Accounts Payable', datetime.date(2025, 12, 15), 'All', datetime.date(2026, 12, 30), Decimal('122.68'), None, None, None, None, '12/03', '20000-933272658', 'Net 15', 'Acct #560-82645-99C', None, None, None, None, None, None, False, None, None, Decimal('122.68'), None, None, None, None, None, None, None)\n('5C53-1197712484', datetime.datetime(2007, 12, 15, 2, 54, 44), datetime.datetime(2024, 12, 15, 5, 57, 42), '1734267462', 1283, '120000-933272657', 'Sergeant Insurance', 'Sergeant Insurance', 'P.O. Box 6257', None, None, 'Middlefield', 'CA', '94482', 'C0000-933270541', 'Accounts Payable', datetime.date(2025, 12, 15), 'All', datetime.date(2027, 1, 14), Decimal('4050'), None, None, None, None, None, '10000-933272658', 'Net 30', None, None, None, None, None, None, None, False, None, None, Decimal('4050'), None, None, None, None, None, None, None)\n('5C90-1197713660', datetime.datetime(2007, 12, 15, 3, 14, 20), datetime.datetime(2024, 12, 15, 5, 57, 43), '1734267463', 1301, 'A0000-933272656', 'Thomas Kitchen & Bath', 'Thomas Kitchen & Bath', '608 Main St', None, None, 'Bayshore', 'CA', '94326', 'C0000-933270541', 'Accounts Payable', datetime.date(2025, 12, 15), 'All', datetime.date(2027, 1, 14), Decimal('585'), None, None, None, None, '8059', '10000-933272658', 'Net 30', None, None, None, None, None, None, None, False, None, None, Decimal('585'), None, None, None, None, None, None, None)\n('8C26-1197736451', datetime.datetime(2007, 12, 15, 9, 34, 11), datetime.datetime(2024, 12, 15, 5, 57, 59), '1734267479', 1433, '800000B4-1197779815', 'Vu Contracting', 'Vu Contracting', 'Don Vu', '89304 Freedom Dr.', None, 'San Mateo', 'CA', None, 'C0000-933270541', 'Accounts Payable', datetime.date(2025, 12, 15), 'All', datetime.date(2026, 12, 30), Decimal('1250'), None, None, None, None, None, '20000-933272658', 'Net 15', None, None, None, None, None, None, None, False, None, None, Decimal('1250'), None, None, None, None, None, None, None)\n"
     ]
    }
   ],
   "source": [
    "cursor.execute(\"SELECT * FROM Bill\")\n",
    "for row in cursor.fetchall():\n",
    "    print (row)"
   ]
  },
  {
   "cell_type": "code",
   "execution_count": null,
   "metadata": {},
   "outputs": [],
   "source": [
    "cursor.close()\n",
    "\n",
    "cn.close()"
   ]
  },
  {
   "cell_type": "code",
   "execution_count": null,
   "metadata": {},
   "outputs": [],
   "source": [
    "################################QUICKBASE CONNECTION SEGMENT#########################################"
   ]
  },
  {
   "cell_type": "code",
   "execution_count": 33,
   "metadata": {},
   "outputs": [],
   "source": [
    "## VARIABLES\n",
    "table_id = 'bq3dwsq24'  # Video game table\n",
    "token = 'b5tv28_pfwp_c5gn948cchkbnhd52m62qb24jnhz'\n",
    "cols = [6, 7, 8, 9, 10, 11, 12, 13, 14, 15, 16]\n",
    "# sql_query = ''' '''\n",
    "realm_hostname = 'michaelhuber.quickbase.com'\n",
    "\n",
    "# log_table_id = ''\n",
    "# log_cols = [6, 7, 8, 9, 10]\n",
    "\n",
    "\n",
    "### IMPORTING PACKAGES\n",
    "import pandas as pd\n",
    "# import sqlalchemy as sqla\n",
    "import numpy as np\n",
    "import requests\n",
    "import unicodedata\n",
    "from datetime import datetime\n",
    "import urllib\n",
    "import json"
   ]
  },
  {
   "cell_type": "code",
   "execution_count": 34,
   "metadata": {},
   "outputs": [],
   "source": [
    "mydata = pd.read_csv('vgsales.csv')"
   ]
  },
  {
   "cell_type": "code",
   "execution_count": 32,
   "metadata": {},
   "outputs": [],
   "source": [
    "mydata = mydata.head()"
   ]
  },
  {
   "cell_type": "code",
   "execution_count": 24,
   "metadata": {},
   "outputs": [
    {
     "output_type": "stream",
     "name": "stdout",
     "text": [
      "   Rank                      Name Platform    Year         Genre Publisher  \\\n0     1                Wii Sports      Wii  2006.0        Sports  Nintendo   \n1     2         Super Mario Bros.      NES  1985.0      Platform  Nintendo   \n2     3            Mario Kart Wii      Wii  2008.0        Racing  Nintendo   \n3     4         Wii Sports Resort      Wii  2009.0        Sports  Nintendo   \n4     5  Pokemon Red/Pokemon Blue       GB  1996.0  Role-Playing  Nintendo   \n\n   NA_Sales  EU_Sales  JP_Sales  Other_Sales  Global_Sales  \n0     41.49     29.02      3.77         8.46         82.74  \n1     29.08      3.58      6.81         0.77         40.24  \n2     15.85     12.88      3.79         3.31         35.82  \n3     15.75     11.01      3.28         2.96         33.00  \n4     11.27      8.89     10.22         1.00         31.37  \n"
     ]
    }
   ],
   "source": [
    "print(mydata)"
   ]
  },
  {
   "cell_type": "code",
   "execution_count": 35,
   "metadata": {},
   "outputs": [],
   "source": [
    "def decoder(x):\n",
    "    x = unicodedata.normalize('NFKD', x).encode('ascii', 'ignore')\n",
    "    x = x.decode('utf-8')\n",
    "    return x"
   ]
  },
  {
   "cell_type": "code",
   "execution_count": 36,
   "metadata": {},
   "outputs": [],
   "source": [
    "for column in mydata.columns:\n",
    "    mydata[column] = mydata[column].astype(str).apply(decoder)\n",
    "\n",
    "str_cols = [str(x) for x in cols]\n",
    "mydata.columns = str_cols"
   ]
  },
  {
   "cell_type": "code",
   "execution_count": 28,
   "metadata": {},
   "outputs": [
    {
     "output_type": "stream",
     "name": "stdout",
     "text": [
      "   6                         7    8       9            10        11     12  \\\n0  1                Wii Sports  Wii  2006.0        Sports  Nintendo  41.49   \n1  2         Super Mario Bros.  NES  1985.0      Platform  Nintendo  29.08   \n2  3            Mario Kart Wii  Wii  2008.0        Racing  Nintendo  15.85   \n3  4         Wii Sports Resort  Wii  2009.0        Sports  Nintendo  15.75   \n4  5  Pokemon Red/Pokemon Blue   GB  1996.0  Role-Playing  Nintendo  11.27   \n\n      13     14    15     16  \n0  29.02   3.77  8.46  82.74  \n1   3.58   6.81  0.77  40.24  \n2  12.88   3.79  3.31  35.82  \n3  11.01   3.28  2.96   33.0  \n4   8.89  10.22   1.0  31.37  \n"
     ]
    }
   ],
   "source": [
    "print(mydata)"
   ]
  },
  {
   "cell_type": "code",
   "execution_count": 37,
   "metadata": {},
   "outputs": [
    {
     "output_type": "stream",
     "name": "stdout",
     "text": [
      "Sending  Delete Records API request...\n"
     ]
    }
   ],
   "source": [
    "### LOAD\n",
    "# Deleting all records from the existing QB table\n",
    "print('Sending  Delete Records API request...')\n",
    "headers = {'QB-Realm-Hostname': realm_hostname, 'Authorization': 'QB-USER-TOKEN ' + token}\n",
    "data = eval(json.dumps({\"from\": table_id, \"where\": r'{3.GT.0}'}))\n",
    "r1 = requests.delete(url='https://api.quickbase.com/v1/records', headers=headers, json=data)"
   ]
  },
  {
   "cell_type": "code",
   "execution_count": 38,
   "metadata": {
    "tags": [
     "outputPrepend"
    ]
   },
   "outputs": [
    {
     "output_type": "stream",
     "name": "stdout",
     "text": [
      ".0'}, '16': {'value': '0.01'}}, {'6': {'value': '16536'}, '7': {'value': 'Metal Gear Solid HD Edition'}, '8': {'value': 'X360'}, '9': {'value': '2011.0'}, '10': {'value': 'Action'}, '11': {'value': 'Konami Digital Entertainment'}, '12': {'value': '0.0'}, '13': {'value': '0.0'}, '14': {'value': '0.01'}, '15': {'value': '0.0'}, '16': {'value': '0.01'}}, {'6': {'value': '16537'}, '7': {'value': 'Time Travelers'}, '8': {'value': 'PSP'}, '9': {'value': '2012.0'}, '10': {'value': 'Adventure'}, '11': {'value': 'Level 5'}, '12': {'value': '0.0'}, '13': {'value': '0.0'}, '14': {'value': '0.01'}, '15': {'value': '0.0'}, '16': {'value': '0.01'}}, {'6': {'value': '16538'}, '7': {'value': 'Mushi Bugyou'}, '8': {'value': '3DS'}, '9': {'value': '2013.0'}, '10': {'value': 'Action'}, '11': {'value': 'Namco Bandai Games'}, '12': {'value': '0.0'}, '13': {'value': '0.0'}, '14': {'value': '0.01'}, '15': {'value': '0.0'}, '16': {'value': '0.01'}}, {'6': {'value': '16539'}, '7': {'value': 'Patrician IV: Gold Edition'}, '8': {'value': 'PC'}, '9': {'value': '2011.0'}, '10': {'value': 'Misc'}, '11': {'value': 'Kalypso Media'}, '12': {'value': '0.0'}, '13': {'value': '0.01'}, '14': {'value': '0.0'}, '15': {'value': '0.0'}, '16': {'value': '0.01'}}, {'6': {'value': '16540'}, '7': {'value': 'Transformers: Fall of Cybertron'}, '8': {'value': 'PC'}, '9': {'value': '2012.0'}, '10': {'value': 'Action'}, '11': {'value': 'Activision'}, '12': {'value': '0.01'}, '13': {'value': '0.0'}, '14': {'value': '0.0'}, '15': {'value': '0.0'}, '16': {'value': '0.01'}}, {'6': {'value': '16541'}, '7': {'value': 'Sea Monsters: A Prehistoric Adventure'}, '8': {'value': 'DS'}, '9': {'value': '2007.0'}, '10': {'value': 'Adventure'}, '11': {'value': 'DSI Games'}, '12': {'value': '0.01'}, '13': {'value': '0.0'}, '14': {'value': '0.0'}, '15': {'value': '0.0'}, '16': {'value': '0.01'}}, {'6': {'value': '16542'}, '7': {'value': 'Spore Galactic Adventures'}, '8': {'value': 'PC'}, '9': {'value': '2009.0'}, '10': {'value': 'Strategy'}, '11': {'value': 'Electronic Arts'}, '12': {'value': '0.0'}, '13': {'value': '0.01'}, '14': {'value': '0.0'}, '15': {'value': '0.0'}, '16': {'value': '0.01'}}, {'6': {'value': '16543'}, '7': {'value': '15 Days'}, '8': {'value': 'PC'}, '9': {'value': '2009.0'}, '10': {'value': 'Adventure'}, '11': {'value': 'DTP Entertainment'}, '12': {'value': '0.0'}, '13': {'value': '0.01'}, '14': {'value': '0.0'}, '15': {'value': '0.0'}, '16': {'value': '0.01'}}, {'6': {'value': '16544'}, '7': {'value': 'Battle Fantasia'}, '8': {'value': 'PS3'}, '9': {'value': '2008.0'}, '10': {'value': 'Fighting'}, '11': {'value': '505 Games'}, '12': {'value': '0.0'}, '13': {'value': '0.0'}, '14': {'value': '0.01'}, '15': {'value': '0.0'}, '16': {'value': '0.01'}}, {'6': {'value': '16545'}, '7': {'value': 'Mario & Luigi: Paper Jam & Mario Kart 7 Double Pack'}, '8': {'value': '3DS'}, '9': {'value': '2015.0'}, '10': {'value': 'Misc'}, '11': {'value': 'Nintendo'}, '12': {'value': '0.0'}, '13': {'value': '0.0'}, '14': {'value': '0.01'}, '15': {'value': '0.0'}, '16': {'value': '0.01'}}, {'6': {'value': '16546'}, '7': {'value': 'Driving Simulator 2011'}, '8': {'value': 'PC'}, '9': {'value': '2011.0'}, '10': {'value': 'Racing'}, '11': {'value': 'nan'}, '12': {'value': '0.0'}, '13': {'value': '0.01'}, '14': {'value': '0.0'}, '15': {'value': '0.0'}, '16': {'value': '0.01'}}, {'6': {'value': '16547'}, '7': {'value': 'Imagine Figure Skater (JP sales)'}, '8': {'value': 'DS'}, '9': {'value': '2007.0'}, '10': {'value': 'Sports'}, '11': {'value': 'Ubisoft'}, '12': {'value': '0.0'}, '13': {'value': '0.0'}, '14': {'value': '0.01'}, '15': {'value': '0.0'}, '16': {'value': '0.01'}}, {'6': {'value': '16548'}, '7': {'value': 'The Treasures of Mystery Island 3 Pack - Save Mystery Island!'}, '8': {'value': 'PC'}, '9': {'value': '2011.0'}, '10': {'value': 'Puzzle'}, '11': {'value': 'Unknown'}, '12': {'value': '0.01'}, '13': {'value': '0.0'}, '14': {'value': '0.0'}, '15': {'value': '0.0'}, '16': {'value': '0.01'}}, {'6': {'value': '16549'}, '7': {'value': 'Hyakki Yagyou Kaidan Romance'}, '8': {'value': 'PSP'}, '9': {'value': '2012.0'}, '10': {'value': 'Action'}, '11': {'value': 'Quinrose'}, '12': {'value': '0.0'}, '13': {'value': '0.0'}, '14': {'value': '0.01'}, '15': {'value': '0.0'}, '16': {'value': '0.01'}}, {'6': {'value': '16550'}, '7': {'value': 'Bookworm Deluxe'}, '8': {'value': 'PC'}, '9': {'value': '2006.0'}, '10': {'value': 'Puzzle'}, '11': {'value': 'PopCap Games'}, '12': {'value': '0.01'}, '13': {'value': '0.0'}, '14': {'value': '0.0'}, '15': {'value': '0.0'}, '16': {'value': '0.01'}}, {'6': {'value': '16551'}, '7': {'value': 'Hakuoki: Reimeiroku - Omouhase Kara'}, '8': {'value': 'PSV'}, '9': {'value': '2015.0'}, '10': {'value': 'Action'}, '11': {'value': 'Idea Factory'}, '12': {'value': '0.0'}, '13': {'value': '0.0'}, '14': {'value': '0.01'}, '15': {'value': '0.0'}, '16': {'value': '0.01'}}, {'6': {'value': '16552'}, '7': {'value': 'E.T. The Extra-Terrestrial'}, '8': {'value': 'GBA'}, '9': {'value': '2001.0'}, '10': {'value': 'Action'}, '11': {'value': 'NewKidCo'}, '12': {'value': '0.01'}, '13': {'value': '0.0'}, '14': {'value': '0.0'}, '15': {'value': '0.0'}, '16': {'value': '0.01'}}, {'6': {'value': '16553'}, '7': {'value': 'God Eater Off Shot: Tachibana Sakuya-hen Twin Pack & Animation Vol.7'}, '8': {'value': 'PS4'}, '9': {'value': '2016.0'}, '10': {'value': 'Action'}, '11': {'value': 'Namco Bandai Games'}, '12': {'value': '0.0'}, '13': {'value': '0.0'}, '14': {'value': '0.01'}, '15': {'value': '0.0'}, '16': {'value': '0.01'}}, {'6': {'value': '16554'}, '7': {'value': 'Sweet Honey Coming'}, '8': {'value': 'PS2'}, '9': {'value': '2009.0'}, '10': {'value': 'Adventure'}, '11': {'value': 'Kadokawa Shoten'}, '12': {'value': '0.0'}, '13': {'value': '0.0'}, '14': {'value': '0.01'}, '15': {'value': '0.0'}, '16': {'value': '0.01'}}, {'6': {'value': '16555'}, '7': {'value': 'Mahou Sensei Negima!? Neo-Pactio Fight!!'}, '8': {'value': 'Wii'}, '9': {'value': '2007.0'}, '10': {'value': 'Fighting'}, '11': {'value': 'Marvelous Interactive'}, '12': {'value': '0.0'}, '13': {'value': '0.0'}, '14': {'value': '0.01'}, '15': {'value': '0.0'}, '16': {'value': '0.01'}}, {'6': {'value': '16556'}, '7': {'value': 'Bound By Flame'}, '8': {'value': 'X360'}, '9': {'value': '2014.0'}, '10': {'value': 'Role-Playing'}, '11': {'value': 'nan'}, '12': {'value': '0.0'}, '13': {'value': '0.01'}, '14': {'value': '0.0'}, '15': {'value': '0.0'}, '16': {'value': '0.01'}}, {'6': {'value': '16557'}, '7': {'value': 'Psychic Detective'}, '8': {'value': 'PS'}, '9': {'value': '1995.0'}, '10': {'value': 'Adventure'}, '11': {'value': 'Electronic Arts'}, '12': {'value': '0.01'}, '13': {'value': '0.0'}, '14': {'value': '0.0'}, '15': {'value': '0.0'}, '16': {'value': '0.01'}}, {'6': {'value': '16558'}, '7': {'value': 'Codename: Panzers Complete Collection'}, '8': {'value': 'PC'}, '9': {'value': '2016.0'}, '10': {'value': 'Strategy'}, '11': {'value': 'Nordic Games'}, '12': {'value': '0.0'}, '13': {'value': '0.01'}, '14': {'value': '0.0'}, '15': {'value': '0.0'}, '16': {'value': '0.01'}}, {'6': {'value': '16559'}, '7': {'value': 'Super Robot Taisen: Original Generation'}, '8': {'value': 'GBA'}, '9': {'value': '2002.0'}, '10': {'value': 'Role-Playing'}, '11': {'value': 'Banpresto'}, '12': {'value': '0.01'}, '13': {'value': '0.0'}, '14': {'value': '0.0'}, '15': {'value': '0.0'}, '16': {'value': '0.01'}}, {'6': {'value': '16560'}, '7': {'value': 'Dramatical Murder Re:code'}, '8': {'value': 'PSV'}, '9': {'value': '2014.0'}, '10': {'value': 'Adventure'}, '11': {'value': 'Nitroplus'}, '12': {'value': '0.0'}, '13': {'value': '0.0'}, '14': {'value': '0.01'}, '15': {'value': '0.0'}, '16': {'value': '0.01'}}, {'6': {'value': '16561'}, '7': {'value': 'Pro Evolution Soccer 2008'}, '8': {'value': 'PC'}, '9': {'value': '2007.0'}, '10': {'value': 'Sports'}, '11': {'value': 'Konami Digital Entertainment'}, '12': {'value': '0.0'}, '13': {'value': '0.01'}, '14': {'value': '0.0'}, '15': {'value': '0.0'}, '16': {'value': '0.01'}}, {'6': {'value': '16562'}, '7': {'value': 'Sugar + Spice! Anoko no Suteki na Nanimokamo'}, '8': {'value': 'PS2'}, '9': {'value': '2008.0'}, '10': {'value': 'Adventure'}, '11': {'value': 'Alchemist'}, '12': {'value': '0.0'}, '13': {'value': '0.0'}, '14': {'value': '0.01'}, '15': {'value': '0.0'}, '16': {'value': '0.01'}}, {'6': {'value': '16563'}, '7': {'value': 'Hanasaku Manimani'}, '8': {'value': 'PSV'}, '9': {'value': '2014.0'}, '10': {'value': 'Adventure'}, '11': {'value': '5pb'}, '12': {'value': '0.0'}, '13': {'value': '0.0'}, '14': {'value': '0.01'}, '15': {'value': '0.0'}, '16': {'value': '0.01'}}, {'6': {'value': '16564'}, '7': {'value': 'Kanokon: Esuii'}, '8': {'value': 'PS2'}, '9': {'value': '2008.0'}, '10': {'value': 'Adventure'}, '11': {'value': '5pb'}, '12': {'value': '0.0'}, '13': {'value': '0.0'}, '14': {'value': '0.01'}, '15': {'value': '0.0'}, '16': {'value': '0.01'}}, {'6': {'value': '16565'}, '7': {'value': 'Mighty No. 9'}, '8': {'value': 'XOne'}, '9': {'value': '2016.0'}, '10': {'value': 'Platform'}, '11': {'value': 'Deep Silver'}, '12': {'value': '0.01'}, '13': {'value': '0.0'}, '14': {'value': '0.0'}, '15': {'value': '0.0'}, '16': {'value': '0.01'}}, {'6': {'value': '16566'}, '7': {'value': 'Mortal Kombat: Deadly Alliance'}, '8': {'value': 'GBA'}, '9': {'value': '2002.0'}, '10': {'value': 'Fighting'}, '11': {'value': 'Midway Games'}, '12': {'value': '0.01'}, '13': {'value': '0.0'}, '14': {'value': '0.0'}, '15': {'value': '0.0'}, '16': {'value': '0.01'}}, {'6': {'value': '16567'}, '7': {'value': 'Original Frisbee Disc Sports: Ultimate & Golf'}, '8': {'value': 'DS'}, '9': {'value': '2007.0'}, '10': {'value': 'Action'}, '11': {'value': 'Destination Software, Inc'}, '12': {'value': '0.01'}, '13': {'value': '0.0'}, '14': {'value': '0.0'}, '15': {'value': '0.0'}, '16': {'value': '0.01'}}, {'6': {'value': '16568'}, '7': {'value': 'Teslagrad'}, '8': {'value': 'PSV'}, '9': {'value': '2015.0'}, '10': {'value': 'Platform'}, '11': {'value': 'Rain Games'}, '12': {'value': '0.0'}, '13': {'value': '0.01'}, '14': {'value': '0.0'}, '15': {'value': '0.0'}, '16': {'value': '0.01'}}, {'6': {'value': '16569'}, '7': {'value': 'End of Nations'}, '8': {'value': 'PC'}, '9': {'value': '2012.0'}, '10': {'value': 'Strategy'}, '11': {'value': 'Trion Worlds'}, '12': {'value': '0.01'}, '13': {'value': '0.0'}, '14': {'value': '0.0'}, '15': {'value': '0.0'}, '16': {'value': '0.01'}}, {'6': {'value': '16570'}, '7': {'value': 'Fujiko F. Fujio Characters: Great Assembly! Slightly Fantastic Slapstick Party'}, '8': {'value': '3DS'}, '9': {'value': '2014.0'}, '10': {'value': 'Action'}, '11': {'value': 'Namco Bandai Games'}, '12': {'value': '0.0'}, '13': {'value': '0.0'}, '14': {'value': '0.01'}, '15': {'value': '0.0'}, '16': {'value': '0.01'}}, {'6': {'value': '16571'}, '7': {'value': 'XI Coliseum'}, '8': {'value': 'PSP'}, '9': {'value': '2006.0'}, '10': {'value': 'Puzzle'}, '11': {'value': 'Sony Computer Entertainment'}, '12': {'value': '0.0'}, '13': {'value': '0.0'}, '14': {'value': '0.01'}, '15': {'value': '0.0'}, '16': {'value': '0.01'}}, {'6': {'value': '16572'}, '7': {'value': 'Resident Evil 4 HD'}, '8': {'value': 'XOne'}, '9': {'value': '2016.0'}, '10': {'value': 'Shooter'}, '11': {'value': 'Capcom'}, '12': {'value': '0.01'}, '13': {'value': '0.0'}, '14': {'value': '0.0'}, '15': {'value': '0.0'}, '16': {'value': '0.01'}}, {'6': {'value': '16573'}, '7': {'value': 'Farming 2017 - The Simulation'}, '8': {'value': 'PS4'}, '9': {'value': '2016.0'}, '10': {'value': 'Simulation'}, '11': {'value': 'UIG Entertainment'}, '12': {'value': '0.0'}, '13': {'value': '0.01'}, '14': {'value': '0.0'}, '15': {'value': '0.0'}, '16': {'value': '0.01'}}, {'6': {'value': '16574'}, '7': {'value': 'Grisaia no Kajitsu: La Fruit de la Grisaia'}, '8': {'value': 'PSP'}, '9': {'value': '2013.0'}, '10': {'value': 'Adventure'}, '11': {'value': 'Prototype'}, '12': {'value': '0.0'}, '13': {'value': '0.0'}, '14': {'value': '0.01'}, '15': {'value': '0.0'}, '16': {'value': '0.01'}}, {'6': {'value': '16575'}, '7': {'value': 'Scarlett: Nichijou no Kyoukaisen'}, '8': {'value': 'PS2'}, '9': {'value': '2008.0'}, '10': {'value': 'Adventure'}, '11': {'value': 'Kadokawa Shoten'}, '12': {'value': '0.0'}, '13': {'value': '0.0'}, '14': {'value': '0.01'}, '15': {'value': '0.0'}, '16': {'value': '0.01'}}, {'6': {'value': '16576'}, '7': {'value': 'Mini Desktop Racing'}, '8': {'value': 'Wii'}, '9': {'value': '2007.0'}, '10': {'value': 'Racing'}, '11': {'value': 'Popcorn Arcade'}, '12': {'value': '0.01'}, '13': {'value': '0.0'}, '14': {'value': '0.0'}, '15': {'value': '0.0'}, '16': {'value': '0.01'}}, {'6': {'value': '16577'}, '7': {'value': 'Yattaman Wii: BikkuriDokkiri Machine de Mou Race da Koron'}, '8': {'value': 'Wii'}, '9': {'value': '2008.0'}, '10': {'value': 'Racing'}, '11': {'value': 'Takara Tomy'}, '12': {'value': '0.0'}, '13': {'value': '0.0'}, '14': {'value': '0.01'}, '15': {'value': '0.0'}, '16': {'value': '0.01'}}, {'6': {'value': '16578'}, '7': {'value': 'Neo Angelique Special'}, '8': {'value': 'PSP'}, '9': {'value': '2008.0'}, '10': {'value': 'Adventure'}, '11': {'value': 'Tecmo Koei'}, '12': {'value': '0.0'}, '13': {'value': '0.0'}, '14': {'value': '0.01'}, '15': {'value': '0.0'}, '16': {'value': '0.01'}}, {'6': {'value': '16579'}, '7': {'value': 'Rugby Challenge 3'}, '8': {'value': 'XOne'}, '9': {'value': '2016.0'}, '10': {'value': 'Sports'}, '11': {'value': 'Alternative Software'}, '12': {'value': '0.0'}, '13': {'value': '0.01'}, '14': {'value': '0.0'}, '15': {'value': '0.0'}, '16': {'value': '0.01'}}, {'6': {'value': '16580'}, '7': {'value': 'Damnation'}, '8': {'value': 'PC'}, '9': {'value': '2009.0'}, '10': {'value': 'Shooter'}, '11': {'value': 'Codemasters'}, '12': {'value': '0.0'}, '13': {'value': '0.01'}, '14': {'value': '0.0'}, '15': {'value': '0.0'}, '16': {'value': '0.01'}}, {'6': {'value': '16581'}, '7': {'value': 'Outdoors Unleashed: Africa 3D'}, '8': {'value': '3DS'}, '9': {'value': '2011.0'}, '10': {'value': 'Sports'}, '11': {'value': 'Mastiff'}, '12': {'value': '0.01'}, '13': {'value': '0.0'}, '14': {'value': '0.0'}, '15': {'value': '0.0'}, '16': {'value': '0.01'}}, {'6': {'value': '16582'}, '7': {'value': 'PGA European Tour'}, '8': {'value': 'N64'}, '9': {'value': '2000.0'}, '10': {'value': 'Sports'}, '11': {'value': 'Infogrames'}, '12': {'value': '0.01'}, '13': {'value': '0.0'}, '14': {'value': '0.0'}, '15': {'value': '0.0'}, '16': {'value': '0.01'}}, {'6': {'value': '16583'}, '7': {'value': 'Real Rode'}, '8': {'value': 'PS2'}, '9': {'value': '2008.0'}, '10': {'value': 'Adventure'}, '11': {'value': 'Kadokawa Shoten'}, '12': {'value': '0.0'}, '13': {'value': '0.0'}, '14': {'value': '0.01'}, '15': {'value': '0.0'}, '16': {'value': '0.01'}}, {'6': {'value': '16584'}, '7': {'value': 'Fit & Fun'}, '8': {'value': 'Wii'}, '9': {'value': '2011.0'}, '10': {'value': 'Sports'}, '11': {'value': 'Unknown'}, '12': {'value': '0.0'}, '13': {'value': '0.01'}, '14': {'value': '0.0'}, '15': {'value': '0.0'}, '16': {'value': '0.01'}}, {'6': {'value': '16585'}, '7': {'value': 'Planet Monsters'}, '8': {'value': 'GBA'}, '9': {'value': '2001.0'}, '10': {'value': 'Action'}, '11': {'value': 'Titus'}, '12': {'value': '0.01'}, '13': {'value': '0.0'}, '14': {'value': '0.0'}, '15': {'value': '0.0'}, '16': {'value': '0.01'}}, {'6': {'value': '16586'}, '7': {'value': 'Carmageddon 64'}, '8': {'value': 'N64'}, '9': {'value': '1999.0'}, '10': {'value': 'Action'}, '11': {'value': 'Virgin Interactive'}, '12': {'value': '0.01'}, '13': {'value': '0.0'}, '14': {'value': '0.0'}, '15': {'value': '0.0'}, '16': {'value': '0.01'}}, {'6': {'value': '16587'}, '7': {'value': 'Bust-A-Move 3000'}, '8': {'value': 'GC'}, '9': {'value': '2003.0'}, '10': {'value': 'Puzzle'}, '11': {'value': 'Ubisoft'}, '12': {'value': '0.01'}, '13': {'value': '0.0'}, '14': {'value': '0.0'}, '15': {'value': '0.0'}, '16': {'value': '0.01'}}, {'6': {'value': '16588'}, '7': {'value': 'Breach'}, '8': {'value': 'PC'}, '9': {'value': '2011.0'}, '10': {'value': 'Shooter'}, '11': {'value': 'Destineer'}, '12': {'value': '0.01'}, '13': {'value': '0.0'}, '14': {'value': '0.0'}, '15': {'value': '0.0'}, '16': {'value': '0.01'}}, {'6': {'value': '16589'}, '7': {'value': 'Secret Files 2: Puritas Cordis'}, '8': {'value': 'DS'}, '9': {'value': '2009.0'}, '10': {'value': 'Adventure'}, '11': {'value': 'Deep Silver'}, '12': {'value': '0.0'}, '13': {'value': '0.01'}, '14': {'value': '0.0'}, '15': {'value': '0.0'}, '16': {'value': '0.01'}}, {'6': {'value': '16590'}, '7': {'value': 'Mezase!! Tsuri Master DS'}, '8': {'value': 'DS'}, '9': {'value': '2009.0'}, '10': {'value': 'Sports'}, '11': {'value': 'Hudson Soft'}, '12': {'value': '0.0'}, '13': {'value': '0.0'}, '14': {'value': '0.01'}, '15': {'value': '0.0'}, '16': {'value': '0.01'}}, {'6': {'value': '16591'}, '7': {'value': 'Mega Brain Boost'}, '8': {'value': 'DS'}, '9': {'value': '2008.0'}, '10': {'value': 'Puzzle'}, '11': {'value': 'Majesco Entertainment'}, '12': {'value': '0.01'}, '13': {'value': '0.0'}, '14': {'value': '0.0'}, '15': {'value': '0.0'}, '16': {'value': '0.01'}}, {'6': {'value': '16592'}, '7': {'value': 'Chou Ezaru wa Akai Hana: Koi wa Tsuki ni Shirube Kareru'}, '8': {'value': 'PSV'}, '9': {'value': '2016.0'}, '10': {'value': 'Action'}, '11': {'value': 'dramatic create'}, '12': {'value': '0.0'}, '13': {'value': '0.0'}, '14': {'value': '0.01'}, '15': {'value': '0.0'}, '16': {'value': '0.01'}}, {'6': {'value': '16593'}, '7': {'value': 'Eiyuu Densetsu: Sora no Kiseki Material Collection Portable'}, '8': {'value': 'PSP'}, '9': {'value': '2007.0'}, '10': {'value': 'Role-Playing'}, '11': {'value': 'Falcom Corporation'}, '12': {'value': '0.0'}, '13': {'value': '0.0'}, '14': {'value': '0.01'}, '15': {'value': '0.0'}, '16': {'value': '0.01'}}, {'6': {'value': '16594'}, '7': {'value': 'Myst IV: Revelation'}, '8': {'value': 'PC'}, '9': {'value': '2004.0'}, '10': {'value': 'Adventure'}, '11': {'value': 'Ubisoft'}, '12': {'value': '0.01'}, '13': {'value': '0.0'}, '14': {'value': '0.0'}, '15': {'value': '0.0'}, '16': {'value': '0.01'}}, {'6': {'value': '16595'}, '7': {'value': 'Plushees'}, '8': {'value': 'DS'}, '9': {'value': '2008.0'}, '10': {'value': 'Simulation'}, '11': {'value': 'Destineer'}, '12': {'value': '0.01'}, '13': {'value': '0.0'}, '14': {'value': '0.0'}, '15': {'value': '0.0'}, '16': {'value': '0.01'}}, {'6': {'value': '16596'}, '7': {'value': 'Woody Woodpecker in Crazy Castle 5'}, '8': {'value': 'GBA'}, '9': {'value': '2002.0'}, '10': {'value': 'Platform'}, '11': {'value': 'Kemco'}, '12': {'value': '0.01'}, '13': {'value': '0.0'}, '14': {'value': '0.0'}, '15': {'value': '0.0'}, '16': {'value': '0.01'}}, {'6': {'value': '16597'}, '7': {'value': 'Men in Black II: Alien Escape'}, '8': {'value': 'GC'}, '9': {'value': '2003.0'}, '10': {'value': 'Shooter'}, '11': {'value': 'Infogrames'}, '12': {'value': '0.01'}, '13': {'value': '0.0'}, '14': {'value': '0.0'}, '15': {'value': '0.0'}, '16': {'value': '0.01'}}, {'6': {'value': '16598'}, '7': {'value': 'SCORE International Baja 1000: The Official Game'}, '8': {'value': 'PS2'}, '9': {'value': '2008.0'}, '10': {'value': 'Racing'}, '11': {'value': 'Activision'}, '12': {'value': '0.0'}, '13': {'value': '0.0'}, '14': {'value': '0.0'}, '15': {'value': '0.0'}, '16': {'value': '0.01'}}, {'6': {'value': '16599'}, '7': {'value': 'Know How 2'}, '8': {'value': 'DS'}, '9': {'value': '2010.0'}, '10': {'value': 'Puzzle'}, '11': {'value': '7G//AMES'}, '12': {'value': '0.0'}, '13': {'value': '0.01'}, '14': {'value': '0.0'}, '15': {'value': '0.0'}, '16': {'value': '0.01'}}, {'6': {'value': '16600'}, '7': {'value': 'Spirits & Spells'}, '8': {'value': 'GBA'}, '9': {'value': '2003.0'}, '10': {'value': 'Platform'}, '11': {'value': 'Wanadoo'}, '12': {'value': '0.01'}, '13': {'value': '0.0'}, '14': {'value': '0.0'}, '15': {'value': '0.0'}, '16': {'value': '0.01'}}]}\n",
      "<Response [207]>\n",
      "Delete records request: 0 no error \n",
      "Export to Quickbase requests: ERROR import failed \n"
     ]
    }
   ],
   "source": [
    "# Preparing for export\n",
    "step = 50000\n",
    "dflength = len(mydata.index)\n",
    "iter_np = np.arange(0, dflength, step)\n",
    "iter = list(iter_np)\n",
    "\n",
    "def slice_df(mydata, start_line):\n",
    "    end_line = start_line + step\n",
    "    slice = mydata.iloc[start_line:end_line,:]\n",
    "    return slice\n",
    "\n",
    "req_total = int(np.ceil(dflength / step))\n",
    "req_nr = 1\n",
    "\n",
    "if str(r1) == '<Response [200]>':\n",
    "    errorlog1 = '0 no error '\n",
    "else:\n",
    "    errorlog1 = 'FAILED to delete records '\n",
    "errorlog2 = \"\"\n",
    "\n",
    "# Loading Data to a QB table\n",
    "for i in iter :\n",
    "    slice = slice_df(mydata, i)\n",
    "    # print(slice)\n",
    "    print('Sending Insert/ Update Records API request ' + str(req_nr) + ' out of ' + str(req_total))\n",
    "    df_json = slice.to_json(orient='records')\n",
    "    df_json = json.loads(df_json)\n",
    "    df_json = [{key: {\"value\": value} for key, value in item.items()} for item in df_json]\n",
    "    headers = {'QB-Realm-Hostname': realm_hostname, 'Authorization': 'QB-USER-TOKEN ' + token}\n",
    "    data = {\"to\": table_id, \"data\": df_json}\n",
    "    print(data)\n",
    "    r = requests.post(url='https://api.quickbase.com/v1/records', headers = headers, json = data)\n",
    "    print(str(r))\n",
    "    if str(r) == '<Response [200]>':\n",
    "        err_code = '0 no error '\n",
    "    else:\n",
    "        err_code = 'ERROR import failed '\n",
    "    errorlog2 += err_code\n",
    "    req_nr += 1\n",
    "\n",
    "\n",
    "print('Delete records request: ' + errorlog1 + \"\\nExport to Quickbase requests: \" + errorlog2)"
   ]
  },
  {
   "cell_type": "code",
   "execution_count": null,
   "metadata": {},
   "outputs": [],
   "source": [
    "# This is giving an error message but the import is working. I will have to look into this.\n",
    "# I think this script inserts in batches, and it looks like a 207 script can mean it is returning multiple values.\n",
    "# So maybe it is returning multiple 200 requests."
   ]
  }
 ]
}